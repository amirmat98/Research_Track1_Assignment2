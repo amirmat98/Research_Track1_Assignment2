{
 "cells": [
  {
   "cell_type": "markdown",
   "metadata": {},
   "source": [
    "# Research Track 2 - Assignment 2\n",
    "## Implementation of a user interface with ROS in a Jupyter notebook for Assignment 2"
   ]
  },
  {
   "cell_type": "markdown",
   "metadata": {},
   "source": [
    "## Imorting necessary libraries and variables"
   ]
  },
  {
   "cell_type": "code",
   "execution_count": null,
   "metadata": {},
   "outputs": [],
   "source": [
    "# ROS libraries\n",
    "import rospy\n",
    "from geometry_msgs.msg import Point, Pose, Twist\n",
    "from nav_msgs.msg import Odometry\n",
    "import actionlib\n",
    "import actionlib.msg\n",
    "from rt1_a2_2023.msg import PlanningAction, PlanningGoal\n",
    "from rt1_a2_2023.msg import TargetPosition, Abort, RobotPositionVelocity\n",
    "from std_srvs.srv import *\n",
    "from rt1_a2_2023.srv import LastTarget, RobotToTarget\n",
    "\n",
    "# ipywidgets libraries\n",
    "import ipywidgets as widgets\n",
    "from ipywidgets import Button, Layout, ButtonStyle, GridBox, VBox, HBox \n",
    "from IPython.display import display \n",
    "from IPython.display import clear_output\n",
    "\n",
    "# matplotlib libraries\n",
    "import numpy as np\n",
    "import matplotlib.pyplot as plt\n",
    "from matplotlib.animation import FuncAnimation\n",
    "from tf.transformations import quaternion_matrix\n",
    "\n",
    "################################\n",
    "\n",
    "# global variables\n",
    "global temp_status\n",
    "global have_goal\n",
    "global goal_reached\n",
    "\n",
    "# Initialize the publisher\n",
    "global publisher\n",
    "publisher = rospy.Publisher(\"/RobotPositionVelocity\", RobotPositionVelocity, queue_size=1)\n",
    "\n",
    "global action_client\n",
    "\n",
    "global now_x\n",
    "global now_y\n",
    "x_array = []\n",
    "y_array = []\n",
    "\n",
    "canceled_goal_x = []\n",
    "canceled_goal_y = []\n",
    "\n",
    "new_given_goal_x = []\n",
    "new_given_goal_y = []\n",
    "\n",
    "number_reached_goals = 0\n",
    "\n",
    "################################\n"
   ]
  },
  {
   "cell_type": "markdown",
   "metadata": {},
   "source": [
    "## interface logic"
   ]
  },
  {
   "cell_type": "code",
   "execution_count": null,
   "metadata": {},
   "outputs": [],
   "source": [
    "\n",
    "# def interface_behaviour(selector):\n",
    "#     if selector:\n",
    "#         x_coord.disabled=False\n",
    "#         y_coord.disabled=False\n",
    "#         submit_b.disabled=False\n",
    "#         cancel_b.disabled=True\n",
    "\n",
    "#     else:\n",
    "#         x_coord.disabled=True\n",
    "#         y_coord.disabled=True\n",
    "#         submit_b.disabled=True\n",
    "#         cancel_b.disabled=False"
   ]
  },
  {
   "cell_type": "markdown",
   "metadata": {},
   "source": [
    "## callback function for the subscriber"
   ]
  },
  {
   "cell_type": "code",
   "execution_count": null,
   "metadata": {},
   "outputs": [],
   "source": [
    "def publish_message(msg):\n",
    "    global publisher\n",
    "    # get the current position of the robot from the msg in the topic /odom.\n",
    "    position = msg.pose.pose.position\n",
    "    linear_velocity = msg.twist.twist.linear\n",
    "\n",
    "    now_x = position.x\n",
    "    now_y = position.y\n",
    "\n",
    "    x_arrey.append(now_x)\n",
    "    y_arrey.append(now_y)\n",
    "\n",
    "    #define the message that will be published\n",
    "    pos_vel = RobotPositionVelocity()\n",
    "    pos_vel.x = position.x\n",
    "    pos_vel.y = position.y\n",
    "    pos_vel.v_x = linear_velocity.x\n",
    "    pos_vel.v_y = linear_velocity.y\n",
    "\n",
    "    # publish the message\n",
    "    publisher.publish(pos_vel)"
   ]
  },
  {
   "cell_type": "markdown",
   "metadata": {},
   "source": [
    "## Cancel button callback function"
   ]
  },
  {
   "cell_type": "code",
   "execution_count": null,
   "metadata": {},
   "outputs": [],
   "source": [
    "def cancel_button_clicked_callback(b):\n",
    "    with output:\n",
    "        if have_goal:\n",
    "            canceled_goal_x.append(rospy.get_param('/des_pos_x'))\n",
    "            canceled_goal_y.append(rospy.get_param('/des_pos_y'))\n",
    "            # cancel the goal\n",
    "            have_goal = 0\n",
    "            action_client.cancel_goal()\n",
    "            rospy.loginfo(\"Goal canceled\")\n",
    "            print(\"Target cancelled\")\n",
    "        elif not have_goal:\n",
    "            rospy.loginfo(\"No goal to cancel\")"
   ]
  },
  {
   "cell_type": "markdown",
   "metadata": {},
   "source": [
    "## Change button callback function"
   ]
  },
  {
   "cell_type": "code",
   "execution_count": null,
   "metadata": {},
   "outputs": [],
   "source": [
    "def change_button_clicked_callback(b):\n",
    "    with output:\n",
    "        if have_goal:\n",
    "            # cancel the goal first\n",
    "            have_goal = 0\n",
    "            action_client.cancel_goal()\n",
    "            rospy.loginfo(\"Goal canceled\")\n",
    "            # get the new goal from the client\n",
    "            rospy.set_param('/des_pos_x', c1_slider.value)\n",
    "            rospy.set_param('/des_pos_y', c2_slider.value)\n",
    "            # change the goal and send it to the action server\n",
    "            new_target_x = c1_slider.value\n",
    "            new_target_y = c2_slider.value\n",
    "            rospy.loginfo(\"New goal is: x = %f, y = %f\", new_target_x, new_target_y)\n",
    "            goal_new = rt1_a2_2023.msg.PlanningGoal()\n",
    "            goal_new.target_pose.pose.position.x = new_target_x\n",
    "            goal_new.target_pose.pose.position.y = new_target_y\n",
    "            new_given_goal_x.append(new_target_x)\n",
    "            new_given_goal_y.append(new_target_y)\n",
    "\n",
    "            # send new goal to the action server\n",
    "            action_client.send_goal(goal_new)\n",
    "            have_goal = 1\n",
    "\n",
    "            print(\"New target set: X =\",  goal_new.target_pose.pose.position.x, \"Y =\", goal_new.target_pose.pose.position.y)"
   ]
  },
  {
   "cell_type": "markdown",
   "metadata": {},
   "source": [
    "## Info button callback function"
   ]
  },
  {
   "cell_type": "code",
   "execution_count": null,
   "metadata": {},
   "outputs": [],
   "source": [
    "def info_button_clicked_callback(b):\n",
    "    with output:\n",
    "        print(\"Current position: X =\", now_x, \"Y =\", now_y)\n",
    "        given_goals_list = list(zip(new_given_goal_x, new_given_goal_y))\n",
    "        print(\"Given goals: \", given_goals_list)\n",
    "        canceled_goals_list = list(zip(canceled_goal_x, canceled_goal_y))\n",
    "        print(\"Canceled goals: \", canceled_goals_list)"
   ]
  },
  {
   "cell_type": "markdown",
   "metadata": {},
   "source": [
    "## Slider for define goals "
   ]
  },
  {
   "cell_type": "code",
   "execution_count": null,
   "metadata": {},
   "outputs": [],
   "source": [
    "c1_slider = widgets.IntSlider(\n",
    "    value = 1,\n",
    "    min = -10,\n",
    "    max = 10,\n",
    "    step = 1,\n",
    "    description = 'X_goal:',\n",
    "    disabled = False\n",
    "    continuous_update = False,\n",
    "    orientation = 'horizontal',\n",
    "    readout = True,\n",
    "    readout_format = 'd'\n",
    ")\n",
    "\n",
    "c2_slider = widgets.IntSlider(\n",
    "    value = 0,\n",
    "    min = -10,\n",
    "    max = 10,\n",
    "    step = 1,\n",
    "    description = 'Y_goal:',\n",
    "    disabled = False,\n",
    "    continuous_update = False,\n",
    "    orientation = 'vertical',\n",
    "    readout = True,\n",
    "    readout_format = 'd'\n",
    ")\n",
    "\n",
    "instructions_html = \"\"\"\n",
    "<h3 style=\"color: blue;\">Choose the goal:</h3>\n",
    "\"\"\"\n",
    "\n",
    "instructions_widget1 = widgets.HTML(value = instructions_html)\n",
    "display(instructions_widget1, c1_slider, c2_slider)"
   ]
  },
  {
   "cell_type": "markdown",
   "metadata": {},
   "source": [
    "## widget description"
   ]
  },
  {
   "cell_type": "code",
   "execution_count": null,
   "metadata": {},
   "outputs": [],
   "source": [
    "instructions_html2 = \"\"\"\n",
    "<h3 style=\"color: blue;\">Instructions:</h3>\n",
    "<p style = \"font-size: 16px;\">1. Choose what you want to do next:</p>\n",
    "<p style = \"font-size: 16px;\">2. Choose Cancel to Cancel the target.</p>\n",
    "<p style = \"font-size: 16px;\">3. Choose Change to change the target.(determine the target in the slider above the page before choosing Change)</p>\n",
    "<p style=\"color: red; font-family: 'Times New Roman', serif; font-size: 18px;\"></p>\n",
    "\"\"\"\n",
    "\n",
    "instructions_widget2 = widgets.HTML(value=instructions_html2)\n",
    "\n",
    "################################\n",
    "\n",
    "## Choice Maker\n",
    "change_button = Button(description='Change', \n",
    "                       layout=Layout(width='auto', align=\"center\", grid_area='b1'), \n",
    "                       style=ButtonStyle(button_color='green'))\n",
    "\n",
    "cancel_button = Button(description='Cancel', \n",
    "                       layout=Layout(width='auto', grid_area='b2'), \n",
    "                       style=ButtonStyle(button_color='red'))\n",
    "\n",
    "info_button = Button(description='General Info', \n",
    "                     layout=Layout(width='auto', align=\"center\", grid_area='b1'), \n",
    "                     style=ButtonStyle(button_color='lightblue'))\n",
    "\n",
    "output = widgets.Output()\n",
    "\n",
    "change_button.on_click(change_button_clicked_callback)\n",
    "cancel_button.on_click(cancel_button_clicked_callback)\n",
    "info_button.on_click(info_button_clicked_callback)\n",
    "\n",
    "buttons_box = VBox([HBox([info_button]),HBox([change_button,cancel_button])])\n",
    "output_box = VBox([buttons_box, output])\n",
    "\n",
    "display(instructions_widget2 , output_box)"
   ]
  },
  {
   "cell_type": "markdown",
   "metadata": {},
   "source": [
    "## Initialize the node and subscribe to the topic /odom channel to get the current position of the robot"
   ]
  },
  {
   "cell_type": "code",
   "execution_count": null,
   "metadata": {},
   "outputs": [],
   "source": [
    "# Initialize the node\n",
    "rospy.init_node('DefineActionClient')\n",
    "\n",
    "# log the initialization of the node\n",
    "rospy.loginfo(\"Node initialized successfully\")\n",
    "\n",
    "# Initialize the subscriber\n",
    "global subscriber\n",
    "subscriber = rospy.Subscriber(\"/odom\", Odometry, publish_message)\n",
    "\n",
    "# Initialize the action client\n",
    "action_client = actionlib.SimpleActionClient('/reaching_goal', rt1_a2_2023.msg.PlanningAction)\n",
    "action_client.wait_for_server()\n",
    "rospy.loginfo(\"Action client initialized successfully\")\n",
    "\n",
    "now_x = rospy.get_param('/des_pos_x')\n",
    "now_y = rospy.get_param('/des_pos_y')\n",
    "\n",
    "rospy.loginfo(\"Current position: x = %f, y = %f\", now_x, now_y)"
   ]
  },
  {
   "cell_type": "markdown",
   "metadata": {},
   "source": [
    "# Visualization"
   ]
  },
  {
   "cell_type": "markdown",
   "metadata": {},
   "source": [
    "## Path Visualizer"
   ]
  },
  {
   "cell_type": "code",
   "execution_count": null,
   "metadata": {},
   "outputs": [],
   "source": [
    "class Visualiser:\n",
    "\n",
    "    def __init__(self):\n",
    "        self.fig, self.ax = plt.subplots()\n",
    "        self.ln, = self.ax.plot([], [], 'ro', label='Robot Position')  # Target's Position Plot\n",
    "        self.goal_ln, = self.ax.plot([], [], 'bo', markersize=10, label='Robot Goal Position')  # Robot's Position Data Arrays\n",
    "        self.cancel_goal_ln, = self.ax.plot([], [], 'rx', markersize=10, label='Robot Cancelled Goal Position')  # Robot's Position Cancel goals Data Arrays\n",
    "        self.x_array, self.y_array = [], []\n",
    "        self.Goal_x, self.Goal_y = [], []\n",
    "\n",
    "    def plot_init(self):\n",
    "        self.ax.set_title(\"Robot Position\", fontsize=15, fontweight='bold')  # Set Plot Axis Labels\n",
    "        self.ax.set_xlabel(\"X [m]\", fontsize=10, fontweight=\"bold\")\n",
    "        self.ax.set_ylabel(\"Y [m]\", fontsize=10, fontweight=\"bold\")\n",
    "        self.ax.set_xlim(-10, 10)\n",
    "        self.ax.set_ylim(-10, 10)\n",
    "        self.ax.grid(True)\n",
    "        self.ax.legend()\n",
    "        return self.ln, self.goal_ln\n",
    "    \n",
    "    def odom_callback(self, msg):\n",
    "        self.x_array.append(msg.pose.pose.position.x)\n",
    "        self.y_array.append(msg.pose.pose.position.y)\n",
    "        x_t = rospy.get_param('/des_pos_x')\n",
    "        y_t = rospy.get_param('/des_pos_y')\n",
    "        self.Goal_x.append(x_t)\n",
    "        self.Goal_y.append(y_t)\n",
    "        self.cancelled_x = np.array(canceled_goal_x)\n",
    "        self.cancelled_y = np.array(canceled_goal_y)\n",
    "\n",
    "    def update_plot(self, frame):\n",
    "        self.ln.set_data(self.x_array, self.y_array)\n",
    "        self.goal_ln.set_data(self.Goal_x, self.Goal_y)\n",
    "        self.cancel_goal_ln.set_data(self.cancelled_x, self.cancelled_y)\n",
    "        return self.ln, self.goal_ln, self.cancel_goal_ln"
   ]
  }
 ],
 "metadata": {
  "language_info": {
   "name": "python"
  }
 },
 "nbformat": 4,
 "nbformat_minor": 2
}
