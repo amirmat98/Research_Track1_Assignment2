{
 "cells": [
  {
   "cell_type": "code",
   "execution_count": null,
   "metadata": {},
   "outputs": [],
   "source": [
    "# Research Track 2 - Assignment 2\n",
    "## Implementation of a user interface with ROS in a Jupyter notebook for Assignment 2"
   ]
  },
  {
   "cell_type": "code",
   "execution_count": null,
   "metadata": {},
   "outputs": [],
   "source": [
    "## Imorting necessary libraries and variables"
   ]
  },
  {
   "cell_type": "code",
   "execution_count": null,
   "metadata": {},
   "outputs": [],
   "source": [
    "# ROS libraries\n",
    "import rospy\n",
    "from geometry_msgs.msg import Point, Pose, Twist\n",
    "from nav_msgs.msg import Odometry\n",
    "import actionlib\n",
    "import actionlib.msg\n",
    "from rt1_a2_2023.msg import PlanningAction, PlanningGoal\n",
    "from rt1_a2_2023.msg import TargetPosition, Abort, RobotPositionVelocity\n",
    "from std_srvs.srv import *\n",
    "from rt1_a2_2023.srv import LastTarget, RobotToTarget\n",
    "\n",
    "# ipywidgets libraries\n",
    "import ipywidgets as widgets\n",
    "from ipywidgets import Button, Layout, ButtonStyle, GridBox, VBox, HBox \n",
    "from IPython.display import display \n",
    "from IPython.display import clear_output\n",
    "\n",
    "################################\n",
    "\n",
    "# global variables\n",
    "global temp_status\n",
    "global have_goal\n",
    "global goal_reached\n",
    "\n",
    "# Initialize the publisher\n",
    "global publisher\n",
    "publisher = rospy.Publisher(\"/RobotPositionVelocity\", RobotPositionVelocity, queue_size=1)\n",
    "\n",
    "global now_x\n",
    "global now_y\n",
    "x_arrey = []\n",
    "y_arrey = []\n",
    "\n",
    "################################"
   ]
  },
  {
   "cell_type": "code",
   "execution_count": null,
   "metadata": {},
   "outputs": [],
   "source": [
    "## callback function for the subscriber"
   ]
  },
  {
   "cell_type": "code",
   "execution_count": null,
   "metadata": {},
   "outputs": [],
   "source": [
    "def publish_message(msg):\n",
    "    global publisher\n",
    "    # get the current position of the robot from the msg in the topic /odom.\n",
    "    position = msg.pose.pose.position\n",
    "    linear_velocity = msg.twist.twist.linear\n",
    "\n",
    "    now_x = position.x\n",
    "    now_y = position.y\n",
    "\n",
    "    x_arrey.append(now_x)\n",
    "    y_arrey.append(now_y)\n",
    "\n",
    "    #define the message that will be published\n",
    "    pos_vel = RobotPositionVelocity()\n",
    "    pos_vel.x = position.x\n",
    "    pos_vel.y = position.y\n",
    "    pos_vel.v_x = linear_velocity.x\n",
    "    pos_vel.v_y = linear_velocity.y\n",
    "\n",
    "    # publish the message\n",
    "    publisher.publish(pos_vel)"
   ]
  },
  {
   "cell_type": "code",
   "execution_count": null,
   "metadata": {},
   "outputs": [],
   "source": [
    "## Initialize the node and subscribe to the topic /odom channel to get the current position of the robot"
   ]
  },
  {
   "cell_type": "code",
   "execution_count": null,
   "metadata": {},
   "outputs": [],
   "source": [
    "# Initialize the node\n",
    "rospy.init_node('DefineActionClient')\n",
    "\n",
    "# log the initialization of the node\n",
    "rospy.loginfo(\"Node initialized successfully\")\n",
    "\n",
    "# Initialize the subscriber\n",
    "global subscriber\n",
    "subscriber = rospy.Subscriber(\"/odom\", Odometry, publish_message)\n",
    "\n",
    "# Initialize the action client\n",
    "global action_client\n",
    "action_client = actionlib.SimpleActionClient('/reaching_goal', rt1_a2_2023.msg.PlanningAction)\n",
    "action_client.wait_for_server()\n",
    "rospy.loginfo(\"Action client initialized successfully\")"
   ]
  }
 ],
 "metadata": {
  "language_info": {
   "name": "python"
  }
 },
 "nbformat": 4,
 "nbformat_minor": 2
}
